{
 "cells": [
  {
   "cell_type": "code",
   "execution_count": 1,
   "metadata": {},
   "outputs": [],
   "source": [
    "import numpy as np\n"
   ]
  },
  {
   "cell_type": "code",
   "execution_count": 5,
   "metadata": {},
   "outputs": [
    {
     "name": "stdout",
     "output_type": "stream",
     "text": [
      "[30 32 34 36 38 40]\n",
      "[-10 -10 -10 -10 -10 -10]\n",
      "[200 231 264 299 336 375]\n",
      "[0.5        0.52380952 0.54545455 0.56521739 0.58333333 0.6       ]\n",
      "[ 1661992960   602408795           0  1487897765  1090519040 -1144744561]\n",
      "[10 11 12 13 14 15]\n",
      "[10 11 12 13 14 15]\n",
      "(array([0, 0, 0, 0, 0, 0]), array([10, 11, 12, 13, 14, 15]))\n"
     ]
    }
   ],
   "source": [
    "arr1 = np.array([10,11,12,13,14,15])\n",
    "arr2 = np.array([20,21,22,23,24,25])\n",
    "\n",
    "newarr = np.add(arr1,arr2)\n",
    "print(newarr)\n",
    "\n",
    "newar = np.subtract(arr1,arr2)\n",
    "print(newar)\n",
    "\n",
    "newarm = np.multiply(arr1,arr2)\n",
    "print(newarm)\n",
    "\n",
    "neward = np.divide(arr1,arr2)\n",
    "print(neward)\n",
    "\n",
    "newarp = np.power(arr1,arr2)\n",
    "print(newarp)\n",
    "\n",
    "newmod = np.mod(arr1,arr2)\n",
    "print(newmod)\n",
    "\n",
    "newarrr = np.remainder(arr1,arr2)\n",
    "print(newarrr)\n",
    "\n",
    "# quotient and mod\n",
    "newarqm = np.divmod(arr1,arr2)\n",
    "print(newarqm)"
   ]
  },
  {
   "cell_type": "code",
   "execution_count": 6,
   "metadata": {},
   "outputs": [
    {
     "name": "stdout",
     "output_type": "stream",
     "text": [
      "[1 5 8 3 7 4 5]\n"
     ]
    }
   ],
   "source": [
    "# absolute values\n",
    "arr = np.array([-1,-5,-8,-3,-7,4,5])\n",
    "newarr = np.absolute(arr)\n",
    "print(newarr)"
   ]
  }
 ],
 "metadata": {
  "kernelspec": {
   "display_name": "Python 3",
   "language": "python",
   "name": "python3"
  },
  "language_info": {
   "codemirror_mode": {
    "name": "ipython",
    "version": 3
   },
   "file_extension": ".py",
   "mimetype": "text/x-python",
   "name": "python",
   "nbconvert_exporter": "python",
   "pygments_lexer": "ipython3",
   "version": "3.11.1"
  },
  "orig_nbformat": 4
 },
 "nbformat": 4,
 "nbformat_minor": 2
}
