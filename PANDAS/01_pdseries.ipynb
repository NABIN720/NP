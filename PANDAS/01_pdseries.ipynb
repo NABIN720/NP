{
 "cells": [
  {
   "cell_type": "markdown",
   "metadata": {},
   "source": [
    "series is like column \n",
    "it is one-d array holding data of any type."
   ]
  },
  {
   "cell_type": "code",
   "execution_count": 2,
   "metadata": {},
   "outputs": [
    {
     "name": "stdout",
     "output_type": "stream",
     "text": [
      "0    1\n",
      "1    3\n",
      "2    5\n",
      "dtype: int64\n",
      "1\n"
     ]
    }
   ],
   "source": [
    "import pandas as pd\n",
    "\n",
    "a = [1,3,5]\n",
    "b = pd.Series(a)\n",
    "print(b)\n",
    "print(b[0])"
   ]
  },
  {
   "cell_type": "markdown",
   "metadata": {},
   "source": [
    "creating label with the index arguments"
   ]
  },
  {
   "cell_type": "code",
   "execution_count": 6,
   "metadata": {},
   "outputs": [
    {
     "name": "stdout",
     "output_type": "stream",
     "text": [
      "x    1\n",
      "y    3\n",
      "z    5\n",
      "dtype: int64\n",
      "1\n"
     ]
    }
   ],
   "source": [
    "import pandas as pd\n",
    "a = [1,3,5]\n",
    "b = pd.Series(a,index=[\"x\",\"y\",\"z\"])\n",
    "print(b)\n",
    "print(b[\"x\"])"
   ]
  },
  {
   "cell_type": "markdown",
   "metadata": {},
   "source": [
    "key/value can be used like dictionary,when creating a series"
   ]
  },
  {
   "cell_type": "code",
   "execution_count": 7,
   "metadata": {},
   "outputs": [
    {
     "name": "stdout",
     "output_type": "stream",
     "text": [
      "first     160\n",
      "second    140\n",
      "third     120\n",
      "dtype: int64\n"
     ]
    }
   ],
   "source": [
    "import pandas as pd\n",
    "bp = {\"first\":160,\"second\":140,\"third\":120}\n",
    "mv = pd.Series(bp)\n",
    "print(mv)"
   ]
  },
  {
   "cell_type": "markdown",
   "metadata": {},
   "source": [
    "to select required one use index method"
   ]
  },
  {
   "cell_type": "code",
   "execution_count": 8,
   "metadata": {},
   "outputs": [
    {
     "name": "stdout",
     "output_type": "stream",
     "text": [
      "first     160\n",
      "second    140\n",
      "dtype: int64\n"
     ]
    }
   ],
   "source": [
    "import pandas as pd\n",
    "\n",
    "bp = {\"first\":160,\"second\":140,\"third\":120}\n",
    "mv = pd.Series(bp,index=[\"first\",\"second\"])\n",
    "print(mv)"
   ]
  },
  {
   "cell_type": "markdown",
   "metadata": {},
   "source": [
    "data sets in pandas are usually multi-dimensional tables,called Dataframes.\n",
    "Series is like table\n",
    "Dataframe is the whole table"
   ]
  },
  {
   "cell_type": "code",
   "execution_count": 10,
   "metadata": {},
   "outputs": [
    {
     "name": "stdout",
     "output_type": "stream",
     "text": [
      "          cars  rank\n",
      "0     Mahindra     3\n",
      "1       Ferari     1\n",
      "2  Lamborghini     2\n"
     ]
    }
   ],
   "source": [
    "mds = {\n",
    "    'cars':[\"Mahindra\",\"Ferari\",\"Lamborghini\"],\n",
    "    'rank':[3,1,2]\n",
    "}\n",
    "\n",
    "mv = pd.DataFrame(mds)\n",
    "print(mv)"
   ]
  }
 ],
 "metadata": {
  "kernelspec": {
   "display_name": "Python 3",
   "language": "python",
   "name": "python3"
  },
  "language_info": {
   "codemirror_mode": {
    "name": "ipython",
    "version": 3
   },
   "file_extension": ".py",
   "mimetype": "text/x-python",
   "name": "python",
   "nbconvert_exporter": "python",
   "pygments_lexer": "ipython3",
   "version": "3.11.1"
  },
  "orig_nbformat": 4
 },
 "nbformat": 4,
 "nbformat_minor": 2
}
