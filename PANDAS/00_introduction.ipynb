{
 "cells": [
  {
   "cell_type": "markdown",
   "metadata": {},
   "source": [
    "pandas is used to analyze,cleaning,exploring and manipulating data"
   ]
  },
  {
   "cell_type": "code",
   "execution_count": null,
   "metadata": {},
   "outputs": [],
   "source": [
    "#load a csv file into a pandas DataFrame\n",
    "import pandas as pd\n",
    "hel = pd.read_csv('file.csv')\n",
    "print(hel.to_string())"
   ]
  },
  {
   "cell_type": "code",
   "execution_count": 7,
   "metadata": {},
   "outputs": [
    {
     "name": "stdout",
     "output_type": "stream",
     "text": [
      "          cars  rank\n",
      "0     Mahindra     3\n",
      "1       Ferari     1\n",
      "2  Lamborghini     2\n"
     ]
    }
   ],
   "source": [
    "import pandas\n",
    "\n",
    "mds = {\n",
    "    'cars':[\"Mahindra\",\"Ferari\",\"Lamborghini\"],\n",
    "    'rank':[3,1,2]\n",
    "}\n",
    "\n",
    "mv = pandas.DataFrame(mds)\n",
    "print(mv)"
   ]
  },
  {
   "cell_type": "code",
   "execution_count": 8,
   "metadata": {},
   "outputs": [
    {
     "name": "stdout",
     "output_type": "stream",
     "text": [
      "2.0.3\n"
     ]
    }
   ],
   "source": [
    "#checking version\n",
    "import pandas as pd\n",
    "print(pd.__version__)"
   ]
  }
 ],
 "metadata": {
  "kernelspec": {
   "display_name": "Python 3",
   "language": "python",
   "name": "python3"
  },
  "language_info": {
   "codemirror_mode": {
    "name": "ipython",
    "version": 3
   },
   "file_extension": ".py",
   "mimetype": "text/x-python",
   "name": "python",
   "nbconvert_exporter": "python",
   "pygments_lexer": "ipython3",
   "version": "3.11.1"
  },
  "orig_nbformat": 4
 },
 "nbformat": 4,
 "nbformat_minor": 2
}
