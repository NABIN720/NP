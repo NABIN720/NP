{
 "cells": [
  {
   "cell_type": "markdown",
   "metadata": {},
   "source": [
    "Viewing the Data---\n",
    "The head() method returns the headers and a specified number of rows, starting from the top."
   ]
  },
  {
   "cell_type": "code",
   "execution_count": 2,
   "metadata": {},
   "outputs": [
    {
     "name": "stdout",
     "output_type": "stream",
     "text": [
      "   Year Industry_aggregation_NZSIOC Industry_code_NZSIOC Industry_name_NZSIOC  \\\n",
      "0  2021                     Level 1                99999       All industries   \n",
      "1  2021                     Level 1                99999       All industries   \n",
      "2  2021                     Level 1                99999       All industries   \n",
      "3  2021                     Level 1                99999       All industries   \n",
      "4  2021                     Level 1                99999       All industries   \n",
      "5  2021                     Level 1                99999       All industries   \n",
      "6  2021                     Level 1                99999       All industries   \n",
      "7  2021                     Level 1                99999       All industries   \n",
      "8  2021                     Level 1                99999       All industries   \n",
      "9  2021                     Level 1                99999       All industries   \n",
      "\n",
      "                Units Variable_code  \\\n",
      "0  Dollars (millions)           H01   \n",
      "1  Dollars (millions)           H04   \n",
      "2  Dollars (millions)           H05   \n",
      "3  Dollars (millions)           H07   \n",
      "4  Dollars (millions)           H08   \n",
      "5  Dollars (millions)           H09   \n",
      "6  Dollars (millions)           H10   \n",
      "7  Dollars (millions)           H11   \n",
      "8  Dollars (millions)           H12   \n",
      "9  Dollars (millions)           H13   \n",
      "\n",
      "                                     Variable_name      Variable_category  \\\n",
      "0                                     Total income  Financial performance   \n",
      "1  Sales, government funding, grants and subsidies  Financial performance   \n",
      "2                Interest, dividends and donations  Financial performance   \n",
      "3                             Non-operating income  Financial performance   \n",
      "4                                Total expenditure  Financial performance   \n",
      "5                           Interest and donations  Financial performance   \n",
      "6                                   Indirect taxes  Financial performance   \n",
      "7                                     Depreciation  Financial performance   \n",
      "8                          Salaries and wages paid  Financial performance   \n",
      "9                         Redundancy and severance  Financial performance   \n",
      "\n",
      "     Value                             Industry_code_ANZSIC06  \n",
      "0  757,504  ANZSIC06 divisions A-S (excluding classes K633...  \n",
      "1  674,890  ANZSIC06 divisions A-S (excluding classes K633...  \n",
      "2   49,593  ANZSIC06 divisions A-S (excluding classes K633...  \n",
      "3   33,020  ANZSIC06 divisions A-S (excluding classes K633...  \n",
      "4  654,404  ANZSIC06 divisions A-S (excluding classes K633...  \n",
      "5   26,138  ANZSIC06 divisions A-S (excluding classes K633...  \n",
      "6    6,991  ANZSIC06 divisions A-S (excluding classes K633...  \n",
      "7   27,801  ANZSIC06 divisions A-S (excluding classes K633...  \n",
      "8  123,620  ANZSIC06 divisions A-S (excluding classes K633...  \n",
      "9      275  ANZSIC06 divisions A-S (excluding classes K633...  \n"
     ]
    }
   ],
   "source": [
    "import pandas as pd \n",
    "a = pd.read_csv('file.csv')\n",
    "print(a.head(10))#if only head() prints first five\n"
   ]
  },
  {
   "cell_type": "code",
   "execution_count": 3,
   "metadata": {},
   "outputs": [
    {
     "name": "stdout",
     "output_type": "stream",
     "text": [
      "       Year Industry_aggregation_NZSIOC Industry_code_NZSIOC  \\\n",
      "41710  2013                     Level 3                 ZZ11   \n",
      "41711  2013                     Level 3                 ZZ11   \n",
      "41712  2013                     Level 3                 ZZ11   \n",
      "41713  2013                     Level 3                 ZZ11   \n",
      "41714  2013                     Level 3                 ZZ11   \n",
      "\n",
      "             Industry_name_NZSIOC       Units Variable_code  \\\n",
      "41710  Food product manufacturing  Percentage           H37   \n",
      "41711  Food product manufacturing  Percentage           H38   \n",
      "41712  Food product manufacturing  Percentage           H39   \n",
      "41713  Food product manufacturing  Percentage           H40   \n",
      "41714  Food product manufacturing  Percentage           H41   \n",
      "\n",
      "                             Variable_name Variable_category Value  \\\n",
      "41710                          Quick ratio  Financial ratios    52   \n",
      "41711  Margin on sales of goods for resale  Financial ratios    40   \n",
      "41712                     Return on equity  Financial ratios    12   \n",
      "41713               Return on total assets  Financial ratios     5   \n",
      "41714                Liabilities structure  Financial ratios    46   \n",
      "\n",
      "                                  Industry_code_ANZSIC06  \n",
      "41710  ANZSIC06 groups C111, C112, C113, C114, C115, ...  \n",
      "41711  ANZSIC06 groups C111, C112, C113, C114, C115, ...  \n",
      "41712  ANZSIC06 groups C111, C112, C113, C114, C115, ...  \n",
      "41713  ANZSIC06 groups C111, C112, C113, C114, C115, ...  \n",
      "41714  ANZSIC06 groups C111, C112, C113, C114, C115, ...  \n"
     ]
    }
   ],
   "source": [
    "print(a.tail())"
   ]
  },
  {
   "cell_type": "code",
   "execution_count": 4,
   "metadata": {},
   "outputs": [
    {
     "name": "stdout",
     "output_type": "stream",
     "text": [
      "<class 'pandas.core.frame.DataFrame'>\n",
      "RangeIndex: 41715 entries, 0 to 41714\n",
      "Data columns (total 10 columns):\n",
      " #   Column                       Non-Null Count  Dtype \n",
      "---  ------                       --------------  ----- \n",
      " 0   Year                         41715 non-null  int64 \n",
      " 1   Industry_aggregation_NZSIOC  41715 non-null  object\n",
      " 2   Industry_code_NZSIOC         41715 non-null  object\n",
      " 3   Industry_name_NZSIOC         41715 non-null  object\n",
      " 4   Units                        41715 non-null  object\n",
      " 5   Variable_code                41715 non-null  object\n",
      " 6   Variable_name                41715 non-null  object\n",
      " 7   Variable_category            41715 non-null  object\n",
      " 8   Value                        41715 non-null  object\n",
      " 9   Industry_code_ANZSIC06       41715 non-null  object\n",
      "dtypes: int64(1), object(9)\n",
      "memory usage: 3.2+ MB\n",
      "None\n"
     ]
    }
   ],
   "source": [
    "print(a.info())"
   ]
  }
 ],
 "metadata": {
  "kernelspec": {
   "display_name": "Python 3",
   "language": "python",
   "name": "python3"
  },
  "language_info": {
   "codemirror_mode": {
    "name": "ipython",
    "version": 3
   },
   "file_extension": ".py",
   "mimetype": "text/x-python",
   "name": "python",
   "nbconvert_exporter": "python",
   "pygments_lexer": "ipython3",
   "version": "3.11.1"
  },
  "orig_nbformat": 4
 },
 "nbformat": 4,
 "nbformat_minor": 2
}
